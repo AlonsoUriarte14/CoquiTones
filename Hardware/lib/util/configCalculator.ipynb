{
 "cells": [
  {
   "cell_type": "code",
   "execution_count": 1,
   "metadata": {},
   "outputs": [],
   "source": [
    "def calculateFileSize(sampleRate, duration, bitDepth, nchannels=1):\n",
    "    \"\"\"Returns theoritical file size in MB with given sample rate (Hz), duration (seconds), bitDepth (bit), and number of channels\n",
    "\n",
    "    Args:\n",
    "        sampleRate : Hz\n",
    "        duration : seconds\n",
    "        bitDepth : bit\n",
    "        nchannels (int, optional): . Defaults to 1.\n",
    "    \"\"\"\n",
    "    \n",
    "    \n",
    "    return round((sampleRate * duration * bitDepth * nchannels) / (8 *1024 * 1024), 2)\n",
    "\n",
    "def timeToTransmit(fileSize):\n",
    "    \"\"\"\n",
    "    calculates time it takes to transfer a file using LoRa with 9.6kbps transfer rate in minutes\n",
    "\n",
    "    Args:\n",
    "        fileSize : file size in MB\n",
    "    Returns:\n",
    "        calculates time it takes to transfer a file using LoRa with 9.6kbps transfer rate\n",
    "    \"\"\"\n",
    "    transferBitRate = 9600 # bps\n",
    "    return round(((fileSize * 8 * 10**6) / transferBitRate) / 60, 2)\n",
    "\n",
    "\n",
    "\n",
    "\n"
   ]
  },
  {
   "cell_type": "code",
   "execution_count": 2,
   "metadata": {},
   "outputs": [
    {
     "data": {
      "application/vnd.jupyter.widget-view+json": {
       "model_id": "06cafe7531b94c7f9ef363a403c18cc1",
       "version_major": 2,
       "version_minor": 0
      },
      "text/plain": [
       "IntSlider(value=40000, max=64000, min=8000, step=1000, style=SliderStyle(handle_color='green'))"
      ]
     },
     "metadata": {},
     "output_type": "display_data"
    },
    {
     "data": {
      "application/vnd.jupyter.widget-view+json": {
       "model_id": "388609a5496c4fc78fbfef4aaada0d88",
       "version_major": 2,
       "version_minor": 0
      },
      "text/plain": [
       "Label(value='SampleRate (Hz)', style=LabelStyle(text_color='green'))"
      ]
     },
     "metadata": {},
     "output_type": "display_data"
    },
    {
     "data": {
      "application/vnd.jupyter.widget-view+json": {
       "model_id": "78d8b332cfdc482596c66799c723d32f",
       "version_major": 2,
       "version_minor": 0
      },
      "text/plain": [
       "IntSlider(value=60, max=300, min=30, step=5, style=SliderStyle(handle_color='blue'))"
      ]
     },
     "metadata": {},
     "output_type": "display_data"
    },
    {
     "data": {
      "application/vnd.jupyter.widget-view+json": {
       "model_id": "6e293299313c4a0bae531bbddf583dcf",
       "version_major": 2,
       "version_minor": 0
      },
      "text/plain": [
       "Label(value='Duration (seconds)', style=LabelStyle(text_color='blue'))"
      ]
     },
     "metadata": {},
     "output_type": "display_data"
    },
    {
     "data": {
      "application/vnd.jupyter.widget-view+json": {
       "model_id": "c76c6bf508524fe187e68b78f86a9567",
       "version_major": 2,
       "version_minor": 0
      },
      "text/plain": [
       "IntSlider(value=16, max=32, min=8, step=8, style=SliderStyle(handle_color='purple'))"
      ]
     },
     "metadata": {},
     "output_type": "display_data"
    },
    {
     "data": {
      "application/vnd.jupyter.widget-view+json": {
       "model_id": "0dd24424fc5d4fe4b3aca3b920a7544b",
       "version_major": 2,
       "version_minor": 0
      },
      "text/plain": [
       "Label(value='Bit Depth ', style=LabelStyle(text_color='purple'))"
      ]
     },
     "metadata": {},
     "output_type": "display_data"
    },
    {
     "data": {
      "application/vnd.jupyter.widget-view+json": {
       "model_id": "99e26a7b92e546129a605c16176cc7d0",
       "version_major": 2,
       "version_minor": 0
      },
      "text/plain": [
       "Output()"
      ]
     },
     "metadata": {},
     "output_type": "display_data"
    },
    {
     "data": {
      "application/vnd.jupyter.widget-view+json": {
       "model_id": "6319f1ca0509425ea19daf98afd203e5",
       "version_major": 2,
       "version_minor": 0
      },
      "text/plain": [
       "Button(description='Modify Config file', style=ButtonStyle(button_color='lightgreen'))"
      ]
     },
     "metadata": {},
     "output_type": "display_data"
    }
   ],
   "source": [
    "\n",
    "import ipywidgets as widgets\n",
    "from IPython.display import display, clear_output\n",
    "import re\n",
    "\n",
    "# Create sliders for sample rate, duration, and bit depth\n",
    "sampleRate_label = widgets.Label(value=\"SampleRate (Hz)\",  )\n",
    "sampleRate_label.style.text_color = \"green\"\n",
    "sampleRate_slider = widgets.IntSlider(min=8000, max=64000, value=40000, step=1000,  )\n",
    "sampleRate_slider.style.handle_color = \"green\"\n",
    "\n",
    "duration_label = widgets.Label(value=\"Duration (seconds)\")\n",
    "duration_label.style.text_color = \"blue\"\n",
    "duration_slider = widgets.IntSlider(min=30, max=300, value=60, step=5, )\n",
    "duration_slider.style.handle_color = \"blue\"\n",
    "\n",
    "bitDepth_label = widgets.Label(value=\"Bit Depth \")\n",
    "bitDepth_label.style.text_color = \"purple\"\n",
    "bitDepth_slider = widgets.IntSlider(min=8, max=32, value=16, step=8,  )\n",
    "bitDepth_slider.style.handle_color = \"purple\"\n",
    "\n",
    "\n",
    "bitMap = {8: \"I2S_BITS_PER_SAMPLE_8BIT,\", 16: \"I2S_BITS_PER_SAMPLE_16BIT,\", 24: \"I2S_BITS_PER_SAMPLE_24BIT,\", 32: \"I2S_BITS_PER_SAMPLE_32BIT,\"}\n",
    "\n",
    "def changeFileConfigurations():\n",
    "    # Read in the file\n",
    "    configPath = \"C:\\\\Users\\\\dasus\\\\Documents\\\\clases\\\\FINAL SEMESTER\\\\Capstone Spring 2024\\\\repo\\\\proyecto_coqui\\\\Hardware\\\\lib\\\\Microphone\\\\config.cpp\"\n",
    "    \n",
    "    with open(configPath, 'r') as file:\n",
    "        filedata = file.read()\n",
    "\n",
    "    # Replace the target strings\n",
    "    filedata = re.sub(r'#define\\s+SAMPLE_RATE\\s+\\d+', f'#define SAMPLE_RATE {sampleRate_slider.value}', filedata)\n",
    "    filedata = re.sub(r'#define\\s+AUDIO_DURATION\\s+\\d+', f'#define AUDIO_DURATION {duration_slider.value}', filedata)\n",
    "    filedata = re.sub(r'\\.bits_per_sample\\s+=\\s+[^\\n]+', f'.bits_per_sample = {bitMap[bitDepth_slider.value]}', filedata)\n",
    "\n",
    "    # Write the file out again\n",
    "    with open(configPath, 'w') as file:\n",
    "        file.write(filedata) \n",
    "# Define button click event handler\n",
    "def on_button_clicked(b):\n",
    "    changeFileConfigurations()\n",
    "    print(\"Changes applied successfully!\")\n",
    "button = widgets.Button(description=\"Modify Config file\" )\n",
    "button.style.button_color=\"lightgreen\"\n",
    "button.on_click(on_button_clicked)\n",
    "\n",
    "\n",
    "\n",
    "# Display sliders\n",
    "display(sampleRate_slider)\n",
    "display(sampleRate_label)\n",
    "display(duration_slider)\n",
    "display(duration_label)\n",
    "display(bitDepth_slider)\n",
    "display(bitDepth_label)\n",
    "\n",
    "\n",
    "\n",
    "\n",
    "# Define function to update file size when sliders change\n",
    "def update_file_size(change):\n",
    "    sampleRate = sampleRate_slider.value\n",
    "    duration = duration_slider.value\n",
    "    bitDepth = bitDepth_slider.value\n",
    "    file_size = calculateFileSize(sampleRate, duration, bitDepth)\n",
    "    time = timeToTransmit(file_size)\n",
    "    with output_area:\n",
    "        clear_output(wait=True)  # Clear the output area without removing the sliders\n",
    "        print(\"Theoretical file size:\", file_size, \"MB\")\n",
    "        print(\"time to transmit\", time, \"minutes\")\n",
    "\n",
    "\n",
    "# Initialize output area\n",
    "output_area = widgets.Output()\n",
    "display(output_area)\n",
    "display(button)\n",
    "# Call update_file_size function when sliders change\n",
    "sampleRate_slider.observe(update_file_size, 'value')\n",
    "duration_slider.observe(update_file_size, 'value')\n",
    "bitDepth_slider.observe(update_file_size, 'value')"
   ]
  }
 ],
 "metadata": {
  "kernelspec": {
   "display_name": "Python 3",
   "language": "python",
   "name": "python3"
  },
  "language_info": {
   "codemirror_mode": {
    "name": "ipython",
    "version": 3
   },
   "file_extension": ".py",
   "mimetype": "text/x-python",
   "name": "python",
   "nbconvert_exporter": "python",
   "pygments_lexer": "ipython3",
   "version": "3.12.0"
  }
 },
 "nbformat": 4,
 "nbformat_minor": 2
}
